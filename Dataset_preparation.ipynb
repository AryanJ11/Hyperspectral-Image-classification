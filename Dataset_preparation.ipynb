{
 "cells": [
  {
   "cell_type": "code",
   "execution_count": 1,
   "metadata": {},
   "outputs": [],
   "source": [
    "import torch\n",
    "from torch.utils.data import Dataset\n",
    "from torch.utils.data import DataLoader\n",
    "import cv2\n",
    "import matplotlib.pyplot as plt\n",
    "import os\n",
    "import numpy as np\n",
    "import nbimporter\n",
    "import scipy.io as sio\n",
    "import pandas as pd\n",
    "\n",
    "%run config.ipynb"
   ]
  },
  {
   "cell_type": "code",
   "execution_count": 2,
   "metadata": {},
   "outputs": [],
   "source": [
    "X=sio.loadmat(hsidir)[\"pavia\"]\n",
    "Y=sio.loadmat(hsilabel)['pavia_gt']\n",
    "\n",
    "X_data=[]\n",
    "Y_data=[]\n",
    "\n",
    "indices={}\n",
    "for i in range(9):\n",
    "    indices[i]=[]\n",
    "\n",
    "r=3\n",
    "c=3\n",
    "\n",
    "freq=np.zeros((9,), dtype=np.int32)\n",
    "i=0\n",
    "\n",
    "while True:\n",
    "\n",
    "    if c+7>=X.shape[1]:\n",
    "        c=3\n",
    "        r+=1\n",
    "\n",
    "    if r>X.shape[0]-4:\n",
    "        break\n",
    "\n",
    "    if Y[r][c]!=0:\n",
    "        \n",
    "        X_data.append(X[r-3:r+4, c-3:c+4, :])\n",
    "        Y_data.append(Y[r][c]-1)\n",
    "        indices[Y[r][c]-1].append(i)\n",
    "        i+=1\n",
    "\n",
    "    c+=1"
   ]
  },
  {
   "cell_type": "code",
   "execution_count": 3,
   "metadata": {},
   "outputs": [],
   "source": [
    "X_train=[]\n",
    "Y_train=[]\n",
    "\n",
    "X_test=[]\n",
    "Y_test=[]\n",
    "for i in range(9):\n",
    "    \n",
    "    ind=np.random.choice(range(len(indices[i])), size=min(140, len(indices[i])), replace=False)\n",
    "    ind.sort()\n",
    "    k=0\n",
    "    \n",
    "    for j in range(len(indices[i])):\n",
    "        if k<140 and ind[k]==j:\n",
    "            X_train.append(X_data[indices[i][j]])\n",
    "            Y_train.append(Y_data[indices[i][j]])\n",
    "            k+=1\n",
    "        else:\n",
    "            X_test.append(X_data[indices[i][j]])\n",
    "            Y_test.append(Y_data[indices[i][j]])\n",
    "            \n",
    "for i in range(len(X_train)):\n",
    "    X_train[i]=np.reshape(X_train[i], (7,7,102,1))\n",
    "    \n",
    "for i in range(len(X_test)):\n",
    "    X_test[i]=np.reshape(X_test[i], (7,7,102,1))\n",
    "    "
   ]
  },
  {
   "cell_type": "code",
   "execution_count": 4,
   "metadata": {},
   "outputs": [],
   "source": [
    "class Data(Dataset):\n",
    "    \n",
    "    def __init__(self, X, Y):\n",
    "        \n",
    "        self.X=X\n",
    "        self.Y=Y        \n",
    "\n",
    "    def __len__(self):\n",
    "        return len(self.X)\n",
    "    \n",
    "    def __getitem__(self, idx):\n",
    "        \n",
    "        inp=self.X[idx]\n",
    "        out=np.zeros((9,))\n",
    "        out[self.Y[idx]]=1\n",
    "        \n",
    "        inp=torch.from_numpy(inp.astype(np.float32)).float()\n",
    "        out=torch.from_numpy(out).long()\n",
    "        \n",
    "        return inp, out"
   ]
  },
  {
   "cell_type": "code",
   "execution_count": 5,
   "metadata": {},
   "outputs": [],
   "source": [
    "batch_size=32\n",
    "dataset=Data(X_train, Y_train)\n",
    "lo=DataLoader(dataset,batch_size=batch_size,num_workers=0,shuffle=True)"
   ]
  },
  {
   "cell_type": "code",
   "execution_count": null,
   "metadata": {},
   "outputs": [],
   "source": []
  }
 ],
 "metadata": {
  "kernelspec": {
   "display_name": "Python 3",
   "language": "python",
   "name": "python3"
  },
  "language_info": {
   "codemirror_mode": {
    "name": "ipython",
    "version": 3
   },
   "file_extension": ".py",
   "mimetype": "text/x-python",
   "name": "python",
   "nbconvert_exporter": "python",
   "pygments_lexer": "ipython3",
   "version": "3.7.9"
  }
 },
 "nbformat": 4,
 "nbformat_minor": 4
}
